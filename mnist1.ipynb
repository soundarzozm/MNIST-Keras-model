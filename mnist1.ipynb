{
  "nbformat": 4,
  "nbformat_minor": 0,
  "metadata": {
    "colab": {
      "name": "mnist1.ipynb",
      "provenance": [],
      "authorship_tag": "ABX9TyMCasvIBnlC6X/71izoA7G8",
      "include_colab_link": true
    },
    "kernelspec": {
      "name": "python3",
      "display_name": "Python 3"
    }
  },
  "cells": [
    {
      "cell_type": "markdown",
      "metadata": {
        "id": "view-in-github",
        "colab_type": "text"
      },
      "source": [
        "<a href=\"https://colab.research.google.com/github/soundarzozm/MNIST-Keras-model/blob/master/mnist1.ipynb\" target=\"_parent\"><img src=\"https://colab.research.google.com/assets/colab-badge.svg\" alt=\"Open In Colab\"/></a>"
      ]
    },
    {
      "cell_type": "markdown",
      "metadata": {
        "id": "UsBkwGzBFzgd",
        "colab_type": "text"
      },
      "source": [
        "Import necessary libraries and functions."
      ]
    },
    {
      "cell_type": "code",
      "metadata": {
        "id": "6KBemLZJxVBp",
        "colab_type": "code",
        "outputId": "de474b52-0385-4d54-a635-b0f3b49d36ef",
        "colab": {
          "base_uri": "https://localhost:8080/",
          "height": 34
        }
      },
      "source": [
        "from keras.datasets import mnist\n",
        "from keras.utils import to_categorical\n",
        "from keras.models import Sequential\n",
        "from keras.layers import Dense, Conv2D, Flatten\n",
        "import matplotlib.pyplot as plt"
      ],
      "execution_count": 2,
      "outputs": [
        {
          "output_type": "stream",
          "text": [
            "Using TensorFlow backend.\n"
          ],
          "name": "stderr"
        }
      ]
    },
    {
      "cell_type": "markdown",
      "metadata": {
        "id": "Gnl-QUuiF76g",
        "colab_type": "text"
      },
      "source": [
        "Getting *'train'* and *'test*' data from the **MNIST** dataset provided by **Keras**."
      ]
    },
    {
      "cell_type": "code",
      "metadata": {
        "id": "1PkD9p2vxgAD",
        "colab_type": "code",
        "outputId": "3c6e66ee-b449-4d55-8e72-06bddfbf3556",
        "colab": {
          "base_uri": "https://localhost:8080/",
          "height": 50
        }
      },
      "source": [
        "(X_train_orig, y_train_orig), (X_test_orig, y_test_orig) = mnist.load_data()"
      ],
      "execution_count": 3,
      "outputs": [
        {
          "output_type": "stream",
          "text": [
            "Downloading data from https://s3.amazonaws.com/img-datasets/mnist.npz\n",
            "11493376/11490434 [==============================] - 0s 0us/step\n"
          ],
          "name": "stdout"
        }
      ]
    },
    {
      "cell_type": "markdown",
      "metadata": {
        "id": "TeQWp6w-GRiA",
        "colab_type": "text"
      },
      "source": [
        "Checking the *shapes* of our raw data.\n",
        "Notice that all the pictures in the dataset have the same \n",
        "**Dimensions: 28x28 px**"
      ]
    },
    {
      "cell_type": "code",
      "metadata": {
        "id": "bIdqPwARxwjl",
        "colab_type": "code",
        "outputId": "3cb605cd-4bf3-4221-9492-fa0220d846a3",
        "colab": {
          "base_uri": "https://localhost:8080/",
          "height": 84
        }
      },
      "source": [
        "print(X_train_orig.shape)\n",
        "print(y_train_orig.shape)\n",
        "print(X_test_orig.shape)\n",
        "print(y_test_orig.shape)"
      ],
      "execution_count": 4,
      "outputs": [
        {
          "output_type": "stream",
          "text": [
            "(60000, 28, 28)\n",
            "(60000,)\n",
            "(10000, 28, 28)\n",
            "(10000,)\n"
          ],
          "name": "stdout"
        }
      ]
    },
    {
      "cell_type": "markdown",
      "metadata": {
        "id": "eATJBRNDG2wl",
        "colab_type": "text"
      },
      "source": [
        "Displaying a random example *(index: 1298 here)* from the training data."
      ]
    },
    {
      "cell_type": "code",
      "metadata": {
        "id": "_bdoufQzxzzh",
        "colab_type": "code",
        "outputId": "d9365829-0035-4954-bb62-fb5183a0a1c9",
        "colab": {
          "base_uri": "https://localhost:8080/",
          "height": 282
        }
      },
      "source": [
        "plt.imshow(X_train_orig[1298])"
      ],
      "execution_count": 5,
      "outputs": [
        {
          "output_type": "execute_result",
          "data": {
            "text/plain": [
              "<matplotlib.image.AxesImage at 0x7f0b8d196f60>"
            ]
          },
          "metadata": {
            "tags": []
          },
          "execution_count": 5
        },
        {
          "output_type": "display_data",
          "data": {
            "image/png": "[encoded data removed]",
            "text/plain": [
              "<Figure size 432x288 with 1 Axes>"
            ]
          },
          "metadata": {
            "tags": [],
            "needs_background": "light"
          }
        }
      ]
    },
    {
      "cell_type": "markdown",
      "metadata": {
        "id": "klxnptcQHIlo",
        "colab_type": "text"
      },
      "source": [
        "We know that the MNIST dataset is **greyscale** in nature.\n",
        "Hence we **reshape** the *train* and *test* data with a **fourth dimension** as **1** which refers to the *number of channels*."
      ]
    },
    {
      "cell_type": "code",
      "metadata": {
        "id": "9oKJ7jhdx4qk",
        "colab_type": "code",
        "colab": {}
      },
      "source": [
        "X_train = X_train_orig.reshape(60000,28,28,1)\n",
        "X_test = X_test_orig.reshape(10000,28,28,1)"
      ],
      "execution_count": 0,
      "outputs": []
    },
    {
      "cell_type": "markdown",
      "metadata": {
        "id": "TG5kNSiQHkt0",
        "colab_type": "text"
      },
      "source": [
        "Since this MNIST dataset consists of *10 different categories of output* i.e. 0-9 digits, we must convert the output data format to **One Hot Encoding** since we'll be using the **softmax activation** to categorise the outputs."
      ]
    },
    {
      "cell_type": "code",
      "metadata": {
        "id": "LqdcgIy-y1C9",
        "colab_type": "code",
        "colab": {}
      },
      "source": [
        "y_train = to_categorical(y_train_orig)\n",
        "y_test = to_categorical(y_test_orig)"
      ],
      "execution_count": 0,
      "outputs": []
    },
    {
      "cell_type": "markdown",
      "metadata": {
        "id": "krwydpJhIKO9",
        "colab_type": "text"
      },
      "source": [
        "Printing a **random value** of *y_train* to show how One Hot Encoding works."
      ]
    },
    {
      "cell_type": "code",
      "metadata": {
        "id": "NL8wHCRxy7ug",
        "colab_type": "code",
        "outputId": "a04dedd6-430d-4a04-9e2a-932521d68df0",
        "colab": {
          "base_uri": "https://localhost:8080/",
          "height": 50
        }
      },
      "source": [
        "print(y_train_orig[1])\n",
        "print(y_train[1])"
      ],
      "execution_count": 8,
      "outputs": [
        {
          "output_type": "stream",
          "text": [
            "0\n",
            "[1. 0. 0. 0. 0. 0. 0. 0. 0. 0.]\n"
          ],
          "name": "stdout"
        }
      ]
    },
    {
      "cell_type": "markdown",
      "metadata": {
        "id": "aiYPWHHJIYuy",
        "colab_type": "text"
      },
      "source": [
        "Here we can see that the **number 0** has been *converted* to a **10-sized array **which **has 1** at the **0th** index and **0s at all other indices**.\n",
        "This is **One Hot Encoding**."
      ]
    },
    {
      "cell_type": "markdown",
      "metadata": {
        "id": "F5Az_Tr8JY0O",
        "colab_type": "text"
      },
      "source": [
        "Let's start a **Sequential model** (from Keras library) since it is *less time consuming to implement.*\n",
        "\n",
        "In Sequential models we basically *keep adding layers to the model sequentially*."
      ]
    },
    {
      "cell_type": "code",
      "metadata": {
        "id": "3YpT6wA7zDzT",
        "colab_type": "code",
        "colab": {}
      },
      "source": [
        "model = Sequential()"
      ],
      "execution_count": 0,
      "outputs": []
    },
    {
      "cell_type": "markdown",
      "metadata": {
        "id": "okuT_WLEJ1Dt",
        "colab_type": "text"
      },
      "source": [
        "Our model's **architecture** is as follows:\n",
        "\n",
        "1) A **convolutional layer** with 64 filters of size 3x3 and **activation 'relu'**. Padding and stride are set to their reset values since we haven't explicitly mentioned their values.\n",
        "We **explicitly mention the input_shape here** since it is the **initial layer** of the model and hence has to **initailize the model for the respective picture.**\n",
        "\n",
        "*(For details about the default values of parameters check Keras documentaion.)*\n",
        "\n",
        "2) A **convolutional layer** with 32 filters of size 3x3 and **activation 'relu'**.\n",
        "\n",
        "3) Here we **flatten** the volume to a vector since we are going to work with a **Fully Connected layer** next.\n",
        "\n",
        "4) The** output layer** with **10 output units** and **activation 'softmax'** since we are going to **categorise** here.\n",
        "\n"
      ]
    },
    {
      "cell_type": "code",
      "metadata": {
        "id": "TiuOxsgg1VAa",
        "colab_type": "code",
        "colab": {}
      },
      "source": [
        "model.add(Conv2D(64, kernel_size=3, activation='relu', input_shape=(28,28,1)))\n",
        "\n",
        "model.add(Conv2D(32, kernel_size=3, activation='relu'))\n",
        "\n",
        "model.add(Flatten())\n",
        "model.add(Dense(10, activation='softmax'))"
      ],
      "execution_count": 0,
      "outputs": []
    },
    {
      "cell_type": "markdown",
      "metadata": {
        "id": "gKafTSxTLTsV",
        "colab_type": "text"
      },
      "source": [
        "We **complie** the model i.e. define certain important parameters of the model such as -* optimizer, loss function, and the metrics* we are interested in. "
      ]
    },
    {
      "cell_type": "code",
      "metadata": {
        "id": "ldj9goko1a-_",
        "colab_type": "code",
        "colab": {}
      },
      "source": [
        "model.compile(optimizer='adam', loss='categorical_crossentropy', metrics=['accuracy'])"
      ],
      "execution_count": 0,
      "outputs": []
    },
    {
      "cell_type": "markdown",
      "metadata": {
        "id": "w06DsT46Lmdx",
        "colab_type": "text"
      },
      "source": [
        "Now we **fit** the model to the *training set* i.e. **train** the model on the training set.\n",
        "\n",
        "Notice that we are also providing the model with **validation_data** on which the **model's accuracy is tested** along with the training of the model."
      ]
    },
    {
      "cell_type": "code",
      "metadata": {
        "id": "CKuEX12x1nTQ",
        "colab_type": "code",
        "outputId": "e5f4f8dc-a291-47f5-bf46-cce1e09ef472",
        "colab": {
          "base_uri": "https://localhost:8080/",
          "height": 118
        }
      },
      "source": [
        "model.fit(X_train, y_train, validation_data=(X_test, y_test), epochs=2, batch_size=512)"
      ],
      "execution_count": 12,
      "outputs": [
        {
          "output_type": "stream",
          "text": [
            "Train on 60000 samples, validate on 10000 samples\n",
            "Epoch 1/2\n",
            "60000/60000 [==============================] - 146s 2ms/step - loss: 1.5232 - accuracy: 0.8741 - val_loss: 0.0928 - val_accuracy: 0.9706\n",
            "Epoch 2/2\n",
            "60000/60000 [==============================] - 145s 2ms/step - loss: 0.0741 - accuracy: 0.9770 - val_loss: 0.0777 - val_accuracy: 0.9767\n"
          ],
          "name": "stdout"
        },
        {
          "output_type": "execute_result",
          "data": {
            "text/plain": [
              "<keras.callbacks.callbacks.History at 0x7f0b8d0f2630>"
            ]
          },
          "metadata": {
            "tags": []
          },
          "execution_count": 12
        }
      ]
    },
    {
      "cell_type": "markdown",
      "metadata": {
        "id": "N57tHPH5MSm9",
        "colab_type": "text"
      },
      "source": [
        "Now that our model is trained, let's **evaluate** the model on **unseen data** and check the accuracy and loss."
      ]
    },
    {
      "cell_type": "code",
      "metadata": {
        "id": "-QxqEBYC5Vn9",
        "colab_type": "code",
        "outputId": "05f9e335-a2e4-4bc3-a166-90b629ea62ad",
        "colab": {
          "base_uri": "https://localhost:8080/",
          "height": 50
        }
      },
      "source": [
        "model.evaluate(X_test, y_test)"
      ],
      "execution_count": 13,
      "outputs": [
        {
          "output_type": "stream",
          "text": [
            "10000/10000 [==============================] - 6s 639us/step\n"
          ],
          "name": "stdout"
        },
        {
          "output_type": "execute_result",
          "data": {
            "text/plain": [
              "[0.07774508394915611, 0.9767000079154968]"
            ]
          },
          "metadata": {
            "tags": []
          },
          "execution_count": 13
        }
      ]
    },
    {
      "cell_type": "markdown",
      "metadata": {
        "id": "tq3uonxSMhIw",
        "colab_type": "text"
      },
      "source": [
        "We can see that out model has an accuracy of 97.8% roughly, which is pretty good.\n",
        "\n",
        "Let's carry on and get the predictions of the model on our test data."
      ]
    },
    {
      "cell_type": "code",
      "metadata": {
        "id": "2PhH20rk1q2M",
        "colab_type": "code",
        "colab": {}
      },
      "source": [
        "pred = model.predict(X_test)"
      ],
      "execution_count": 0,
      "outputs": []
    },
    {
      "cell_type": "markdown",
      "metadata": {
        "id": "TNkv2V1BOTZU",
        "colab_type": "text"
      },
      "source": [
        "We now obtained the predicted values of our model on the test data.\n",
        "\n",
        "But we must remember that we trained the model with **One Hot Encoded** values of outputs since it is a categroical prediction using softmax activation.\n",
        "Hence, the *predicted values are in One Hot Encoded format* as well."
      ]
    },
    {
      "cell_type": "code",
      "metadata": {
        "id": "6ewCFXAUMz0T",
        "colab_type": "code",
        "colab": {
          "base_uri": "https://localhost:8080/",
          "height": 50
        },
        "outputId": "14e295c7-2ced-457c-d8ca-a6b73cae5de7"
      },
      "source": [
        "print(pred[287])"
      ],
      "execution_count": 15,
      "outputs": [
        {
          "output_type": "stream",
          "text": [
            "[9.0316834e-12 1.2352007e-11 1.3716477e-09 6.1510548e-08 9.9999630e-01\n",
            " 1.3648931e-06 2.5057427e-11 9.5235606e-08 4.6682811e-07 1.6528853e-06]\n"
          ],
          "name": "stdout"
        }
      ]
    },
    {
      "cell_type": "markdown",
      "metadata": {
        "id": "lhMWWq_VPKsH",
        "colab_type": "text"
      },
      "source": [
        "Hence we take the greatest value from the vector as 1 and assign 0 to all other indices to convert the output back to One Hot Encoding.\n",
        "\n",
        "Here we've taken a list 'result' to store the predicted values of all 10,000 units of our test data. "
      ]
    },
    {
      "cell_type": "code",
      "metadata": {
        "id": "XUaCiuHm4kVa",
        "colab_type": "code",
        "colab": {}
      },
      "source": [
        "result = []\n",
        "\n",
        "for i in range(pred.shape[0]):\n",
        "  max1=0.0\n",
        "  pos=0\n",
        "  for j in range(pred.shape[1]):\n",
        "    if pred[i][j] > max1:\n",
        "      max1 = pred[i][j]\n",
        "      pos = j\n",
        "  result.append(pos)    "
      ],
      "execution_count": 0,
      "outputs": []
    },
    {
      "cell_type": "code",
      "metadata": {
        "id": "x9qUCSr84nsP",
        "colab_type": "code",
        "outputId": "cd00ef48-21ee-4859-b32c-5cf4e109a874",
        "colab": {
          "base_uri": "https://localhost:8080/",
          "height": 34
        }
      },
      "source": [
        "print(result[:20])"
      ],
      "execution_count": 19,
      "outputs": [
        {
          "output_type": "stream",
          "text": [
            "[7, 2, 1, 0, 4, 1, 4, 9, 6, 9, 0, 6, 9, 0, 1, 5, 9, 7, 3, 4]\n"
          ],
          "name": "stdout"
        }
      ]
    },
    {
      "cell_type": "markdown",
      "metadata": {
        "id": "pjHnzoD7Pub9",
        "colab_type": "text"
      },
      "source": [
        "For an example, let's take a random picture from the test data and print its respective prediction by our model and check if they match."
      ]
    },
    {
      "cell_type": "code",
      "metadata": {
        "id": "K-KAlyFI5hkl",
        "colab_type": "code",
        "outputId": "f8cf797e-ed62-4b45-ec1a-6ae2d6403594",
        "colab": {
          "base_uri": "https://localhost:8080/",
          "height": 298
        }
      },
      "source": [
        "print(result[4369])\n",
        "plt.imshow(X_test_orig[4369])"
      ],
      "execution_count": 20,
      "outputs": [
        {
          "output_type": "stream",
          "text": [
            "9\n"
          ],
          "name": "stdout"
        },
        {
          "output_type": "execute_result",
          "data": {
            "text/plain": [
              "<matplotlib.image.AxesImage at 0x7f0b85ab95f8>"
            ]
          },
          "metadata": {
            "tags": []
          },
          "execution_count": 20
        },
        {
          "output_type": "display_data",
          "data": {
            "image/png": "[encoded data removed]",
            "text/plain": [
              "<Figure size 432x288 with 1 Axes>"
            ]
          },
          "metadata": {
            "tags": [],
            "needs_background": "light"
          }
        }
      ]
    },
    {
      "cell_type": "markdown",
      "metadata": {
        "id": "z_MTo8lFQIQN",
        "colab_type": "text"
      },
      "source": [
        "We have successfully constructed and implemented a simple Convolutional Neural Network on the MNIST dataset and achieved 97.8% accuracy. "
      ]
    },
    {
      "cell_type": "code",
      "metadata": {
        "id": "rVo5vdu155-A",
        "colab_type": "code",
        "colab": {}
      },
      "source": [
        ""
      ],
      "execution_count": 0,
      "outputs": []
    },
    {
      "cell_type": "code",
      "metadata": {
        "id": "YTI5-26D7v4L",
        "colab_type": "code",
        "colab": {}
      },
      "source": [
        ""
      ],
      "execution_count": 0,
      "outputs": []
    }
  ]
}